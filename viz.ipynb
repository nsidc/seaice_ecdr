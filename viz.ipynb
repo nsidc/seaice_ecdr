{
 "cells": [
  {
   "cell_type": "code",
   "execution_count": null,
   "id": "a5e89821-62c2-4684-99a6-ef4d42f48be7",
   "metadata": {},
   "outputs": [],
   "source": [
    "from pathlib import Path\n",
    "\n",
    "import leafmap\n",
    "import xarray as xr\n",
    "import hvplot.xarray\n",
    "import rioxarray as rxr\n",
    "import matplotlib.pyplot as plt\n",
    "\n",
    "from seaice_ecdr.util import get_complete_output_dir\n",
    "from seaice_ecdr.make_25km_cdr import get_25km_daily_cdr"
   ]
  },
  {
   "cell_type": "code",
   "execution_count": null,
   "id": "aa2bd5f0",
   "metadata": {},
   "outputs": [],
   "source": [
    "HEMISPHERE = \"north\""
   ]
  },
  {
   "cell_type": "code",
   "execution_count": null,
   "id": "b2bc9edf",
   "metadata": {},
   "outputs": [],
   "source": [
    "f17_bt_nt = get_25km_daily_cdr(alg=\"BT_NT\", hemisphere=HEMISPHERE, platform=\"F17\")\n",
    "am2_bt_nt = get_25km_daily_cdr(alg=\"BT_NT\", hemisphere=HEMISPHERE, platform=\"am2\")\n",
    "\n",
    "f17_bt_nt_conc = f17_bt_nt.cdr_seaice_conc\n",
    "am2_bt_nt_conc = am2_bt_nt.cdr_seaice_conc"
   ]
  },
  {
   "cell_type": "code",
   "execution_count": null,
   "id": "9a3b17c6",
   "metadata": {},
   "outputs": [],
   "source": [
    "f17_nt2 = get_25km_daily_cdr(alg=\"NT2\", hemisphere=HEMISPHERE, platform=\"F17\")\n",
    "am2_nt2 = get_25km_daily_cdr(alg=\"NT2\", hemisphere=HEMISPHERE, platform=\"am2\")\n",
    "\n",
    "f17_nt2_conc = f17_nt2.cdr_seaice_conc\n",
    "am2_nt2_conc = am2_nt2.cdr_seaice_conc"
   ]
  },
  {
   "cell_type": "code",
   "execution_count": null,
   "id": "43b9fdf5",
   "metadata": {},
   "outputs": [],
   "source": [
    "# Get average difference between the two platforms\n",
    "nt_bt_mean_diff = abs((f17_bt_nt_conc - am2_bt_nt_conc)).mean(dim=(\"y\", \"x\"))\n",
    "nt2_mean_diff = abs((f17_nt2_conc - am2_nt2_conc)).mean(dim=(\"y\", \"x\"))\n",
    "\n",
    "nt_bt_mean_diff"
   ]
  },
  {
   "cell_type": "code",
   "execution_count": null,
   "id": "c88697a6",
   "metadata": {},
   "outputs": [],
   "source": [
    "plt.plot(nt_bt_mean_diff.time, nt_bt_mean_diff, label=\"BT_NT\")\n",
    "plt.plot(nt2_mean_diff.time, nt2_mean_diff, label=\"NT2\")\n",
    "plt.legend()\n",
    "plt.show()"
   ]
  },
  {
   "cell_type": "code",
   "execution_count": null,
   "id": "08fc6a2b",
   "metadata": {},
   "outputs": [],
   "source": [
    "import holoviews as hv\n",
    "f17_bt_nt = f17_bt_nt_conc.hvplot.image(\n",
    "    cmap=\"viridis\",\n",
    "    title=\"F17 BT_NT\",\n",
    "    min_height=len(f17_bt_nt_conc.y),\n",
    "    min_width=len(f17_bt_nt_conc.x),\n",
    "    xlabel=\"\",\n",
    "    ylabel=\"\",\n",
    "    colorbar=False,\n",
    ")\n",
    "am2_bt_nt = am2_bt_nt_conc.hvplot.image(\n",
    "    cmap=\"viridis\",\n",
    "    title=\"AMSR2 BT_NT\",\n",
    "    min_height=len(f17_bt_nt_conc.y),\n",
    "    min_width=len(f17_bt_nt_conc.x),\n",
    "    xlabel=\"\",\n",
    "    ylabel=\"\",\n",
    "    xticks=None,\n",
    "    yticks=None,\n",
    "    colorbar=False,\n",
    ")\n",
    "\n",
    "f17_nt2 = f17_nt2_conc.hvplot.image(\n",
    "    cmap=\"viridis\",\n",
    "    title=\"F17 NT2\",\n",
    "    min_height=len(f17_bt_nt_conc.y),\n",
    "    min_width=len(f17_bt_nt_conc.x),\n",
    "    xlabel=\"\",\n",
    "    ylabel=\"\",\n",
    "    xticks=None,\n",
    "    yticks=None,\n",
    "    colorbar=False,\n",
    ")\n",
    "am2_nt2 = am2_nt2_conc.hvplot.image(\n",
    "    cmap=\"viridis\",\n",
    "    title=\"AMSR2 NT2\",\n",
    "    min_height=len(f17_bt_nt_conc.y),\n",
    "    min_width=len(f17_bt_nt_conc.x),\n",
    "    xlabel=\"\",\n",
    "    ylabel=\"\",\n",
    "    xticks=None,\n",
    "    yticks=None,\n",
    "    colorbar=True,\n",
    ")\n",
    "\n",
    "ls = hv.link_selections.instance()\n",
    "ls(f17_bt_nt + am2_bt_nt + f17_nt2 + am2_nt2).cols(2)"
   ]
  },
  {
   "cell_type": "code",
   "execution_count": null,
   "id": "e4098c30-3e76-4fa0-bab9-121835d6060c",
   "metadata": {},
   "outputs": [],
   "source": [
    "bt_nt_diff = (f17_bt_nt_conc - am2_bt_nt_conc).hvplot.image(\n",
    "    cmap=\"coolwarm\",\n",
    "    title=\"F17 - AM2 BT_NT\",\n",
    "    min_height=len(f17_bt_nt_conc.y),\n",
    "    min_width=len(f17_bt_nt_conc.x),\n",
    "    colorbar=False,\n",
    ")\n",
    "nt2_diff = (f17_nt2_conc - am2_nt2_conc).hvplot.image(\n",
    "    cmap=\"coolwarm\",\n",
    "    title=\"F17 - AM2 NT2\",\n",
    "    min_height=len(f17_bt_nt_conc.y),\n",
    "    min_width=len(f17_bt_nt_conc.x),\n",
    "    colorbar=False,\n",
    ")\n",
    "ls = hv.link_selections.instance()\n",
    "ls(bt_nt_diff + nt2_diff)"
   ]
  }
 ],
 "metadata": {
  "kernelspec": {
   "display_name": "Python 3 (ipykernel)",
   "language": "python",
   "name": "python3"
  },
  "language_info": {
   "codemirror_mode": {
    "name": "ipython",
    "version": 3
   },
   "file_extension": ".py",
   "mimetype": "text/x-python",
   "name": "python",
   "nbconvert_exporter": "python",
   "pygments_lexer": "ipython3",
   "version": "3.10.13"
  }
 },
 "nbformat": 4,
 "nbformat_minor": 5
}
